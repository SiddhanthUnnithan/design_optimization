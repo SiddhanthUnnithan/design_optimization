{
 "cells": [
  {
   "cell_type": "code",
   "execution_count": 2,
   "metadata": {
    "collapsed": true
   },
   "outputs": [],
   "source": [
    "from scipy import optimize\n",
    "import numpy as np\n",
    "% matplotlib inline"
   ]
  },
  {
   "cell_type": "markdown",
   "metadata": {},
   "source": [
    "### Deterministic Model"
   ]
  },
  {
   "cell_type": "code",
   "execution_count": 11,
   "metadata": {
    "collapsed": true
   },
   "outputs": [],
   "source": [
    "def deter_obj(x, q, c, e, f):\n",
    "    \"\"\"\n",
    "        Objective function for deterministic problem. Single time horizon - no uncertainty.\n",
    "        \n",
    "        Parameters\n",
    "        ----------\n",
    "        x : {np.array}\n",
    "            decision variables\n",
    "        \n",
    "        q : {np.array}\n",
    "            sale price\n",
    "        \n",
    "        c : {np.array}\n",
    "            purchase cost\n",
    "        \n",
    "        e : {np.array}\n",
    "            inventory return\n",
    "        \n",
    "        f : {np.array}\n",
    "            operation cost\n",
    "    \"\"\"\n",
    "    s = x[:2]\n",
    "    p = x[2:4]\n",
    "    I = x[4:8]\n",
    "    R = x[8:]\n",
    "    \n",
    "    return np.dot(q, s) - np.dot(c,p) + np.dot(e,I) - np.dot(f,R)"
   ]
  },
  {
   "cell_type": "code",
   "execution_count": 16,
   "metadata": {
    "collapsed": false
   },
   "outputs": [
    {
     "name": "stdout",
     "output_type": "stream",
     "text": [
      "Num obj func evaluations: 84\n",
      "Num iterations: 7\n",
      "Optimization terminated successfully.\n",
      "\n",
      "\n",
      "Sales Units - S0: 19.9999999999, S1: 40.0000000002\n",
      "Purchase Units - P0: 41.0000000001, P1: 148.000000567\n",
      "Inventory Units - I0_final: 8.99999999993, I1_final: 5.65646643253e-07, I2_final: 20.0000000002, I3_final: 20.0000000002\n",
      "Operation Levels - R0: 80.0000000003, R1: 100.000000001\n"
     ]
    }
   ],
   "source": [
    "# sales price\n",
    "q = np.array([100,80])\n",
    "\n",
    "# purchase cost\n",
    "c = np.array([10, 15])\n",
    "\n",
    "# inventory coefficients\n",
    "e = np.array([10, 15, 20, 25])\n",
    "\n",
    "# operation cost\n",
    "f = np.array([30, 35])\n",
    "\n",
    "# decision variables - s3, s4, p1, p2, I1_f, I2_f, I3_f, I4_f, R1, R2\n",
    "\n",
    "# bounds\n",
    "bounds = [(20, 40), (20, 85), (20, 100), (30, 200), (0, 20), (0, 20), (0, 20), (0, 20), (20, 100), (30, 100)]\n",
    "\n",
    "# init vals - boundary midpoints\n",
    "x0 = np.array([(tup[1] - tup[0])/2 for tup in bounds])\n",
    "\n",
    "cons = (\n",
    "    {\"type\": \"eq\", \"fun\": lambda x: x[2] - 0.4*x[8] - x[4]},\n",
    "    {\"type\": \"eq\", \"fun\": lambda x: x[3] - 0.6*x[8] - x[9] - x[5]},\n",
    "    {\"type\": \"eq\", \"fun\": lambda x: 0.5*x[8] - x[6] - x[0]},\n",
    "    {\"type\": \"eq\", \"fun\": lambda x: 0.6*x[9] - x[7] - x[1]}\n",
    ")\n",
    "\n",
    "res = optimize.minimize(deter_obj, x0, args=(q,c,e,f), bounds=bounds, constraints=cons)\n",
    "\n",
    "if res.success:\n",
    "    print \"Num obj func evaluations: %s\" % res.nfev\n",
    "    print \"Num iterations: %s\" % res.nit\n",
    "\n",
    "print res.message\n",
    "print \"\\n\"\n",
    "    \n",
    "x = res.x\n",
    "\n",
    "print \"Sales Units - %s\" % \", \".join([\"S%s: %s\" % (idx, val) for idx, val in enumerate(x[:2])])\n",
    "print \"Purchase Units - %s\" % \", \".join([\"P%s: %s\" % (idx, val) for idx, val in enumerate(x[2:4])])\n",
    "print \"Inventory Units - %s\" % \", \".join([\"I%s_final: %s\" % (idx, val) for idx, val in enumerate(x[4:8])])\n",
    "print \"Operation Levels - %s\" % \", \".join([\"R%s: %s\" % (idx, val) for idx, val in enumerate(x[8:])])"
   ]
  },
  {
   "cell_type": "markdown",
   "metadata": {},
   "source": [
    "### Two Stage Stochastic Programming Model"
   ]
  },
  {
   "cell_type": "code",
   "execution_count": null,
   "metadata": {
    "collapsed": true
   },
   "outputs": [],
   "source": []
  },
  {
   "cell_type": "markdown",
   "metadata": {},
   "source": [
    "### RO SP FR"
   ]
  },
  {
   "cell_type": "code",
   "execution_count": null,
   "metadata": {
    "collapsed": true
   },
   "outputs": [],
   "source": []
  },
  {
   "cell_type": "markdown",
   "metadata": {},
   "source": [
    "### Mean Markovitz Model"
   ]
  },
  {
   "cell_type": "code",
   "execution_count": 6,
   "metadata": {
    "collapsed": false
   },
   "outputs": [],
   "source": [
    "def risk_const(x, params, risk_param, profit_lb):\n",
    "    \"\"\"\n",
    "        Risk constraint for Mean-Markovitz model.\n",
    "        \n",
    "        Parameters\n",
    "        ----------\n",
    "        x : {np.array}\n",
    "            array of decision variables\n",
    "            \n",
    "        params : {dict}\n",
    "            dictionary of parameters used for constraint generation\n",
    "        \n",
    "        risk_param : {float}\n",
    "            custom risk parameter for variation penalty\n",
    "        \n",
    "        profit_lb : {float}\n",
    "            lower bound for profit (t)\n",
    "            \n",
    "        Parameter Dictionary\n",
    "        --------------------\n",
    "        sales_mean : {np.array}\n",
    "            mean coefficients for sales variable (selling price)\n",
    "        \n",
    "        sales_std : {np.array}\n",
    "            standard deviation for sales variables\n",
    "            \n",
    "        purchase_coeff : {np.array}\n",
    "            purchase cost\n",
    "        \n",
    "        inventory_coeff : {np.array}\n",
    "            positive inventory returns\n",
    "        \n",
    "        operation_coeff : {np.array}\n",
    "            operation costs\n",
    "    \"\"\"\n",
    "    # segment decision variables\n",
    "    s = x[:2]\n",
    "    p = x[2:4]\n",
    "    I = x[4:8]\n",
    "    R = x[8:]\n",
    "    \n",
    "    mu_q = params[\"sales_mean\"]\n",
    "    std_q = params[\"sales_std\"]\n",
    "    c = params[\"purchase_coeff\"]\n",
    "    e = params[\"inventory_coeff\"]\n",
    "    f = params[\"operation_coeff\"]\n",
    "    \n",
    "    return np.dot(mu_q, s) - np.dot(c,p) + np.dot(e,I) - np.dot(f,R) - risk_param*np.sqrt(np.dot(np.square(std_q),np.square(y))) - profit_lb"
   ]
  },
  {
   "cell_type": "code",
   "execution_count": null,
   "metadata": {
    "collapsed": true
   },
   "outputs": [],
   "source": [
    "# profit lb\n",
    "t = 10000\n",
    "\n",
    "# risk param\n",
    "theta = 0.3\n",
    "\n",
    "# mean sales price\n",
    "mean_q = np.array([90, 80])\n",
    "\n",
    "# std sales price\n",
    "std_q = np.array([27, 20])\n",
    "\n",
    "# purchase cost\n",
    "c = np.array([10, 15])\n",
    "\n",
    "# inventory coefficients\n",
    "e = np.array([10, 15, 20, 25])\n",
    "\n",
    "# operation cost\n",
    "f = np.array([30, 35])\n",
    "\n",
    "# decision variables - s3, s4, p1, p2, I1_f, I2_f, I3_f, I4_f, R1, R2\n",
    "\n",
    "# bounds\n",
    "bounds = [(20, 40), (20, 85), (20, 100), (30, 200), (0, 20), (0, 20), (0, 20), (0, 20), (20, 100), (30, 100)]\n",
    "\n",
    "# init vals - boundary midpoints\n",
    "x0 = np.array([(tup[1] - tup[0])/2 for tup in bounds])\n",
    "\n",
    "# maximize profit\n",
    "obj = lambda x: -t\n",
    "\n",
    "params = {\"sales_mean\":mean_q, \"sales_std\": std_q, \"purchase_coeff\": c, \"inventory_coeff\": e,\n",
    "          \"operation_coeff\": f}\n",
    "\n",
    "# constraints\n",
    "cons = (\n",
    "    {\"type\": \"ineq\", \"fun\": risk_const, \"args\": (params,theta,t)},\n",
    "    {\"type\": \"eq\", \"fun\": lambda x: x[2] - 0.4*x[8] - x[4]},\n",
    "    {\"type\": \"eq\", \"fun\": lambda x: x[3] - 0.6*x[8] - x[9] - x[5]},\n",
    "    {\"type\": \"eq\", \"fun\": lambda x: 0.5*x[8] - x[6] - x[0]},\n",
    "    {\"type\": \"eq\", \"fun\": lambda x: 0.6*x[9] - x[7] - x[1]}\n",
    ")\n",
    "\n",
    "res = optimize.minimize(obj, x0, bounds=bounds, constraints=cons)\n",
    "\n",
    "x = res.x\n",
    "\n",
    "print \"Sales Units - %s\" % \", \".join([\"S%s: %s\" % (idx, val) for idx, val in enumerate(x[:2])])\n",
    "print \"Purchase Units - %s\" % \", \".join([\"P%s: %s\" % (idx, val) for idx, val in enumerate(x[2:4])])\n",
    "print \"Inventory Units - %s\" % \", \".join([\"I%s_final: %s\" % (idx, val) for idx, val in enumerate(x[4:8])])\n",
    "print \"Operation Levels - %s\" % \", \".join([\"R%s: %s\" % (idx, val) for idx, val in enumerate(x[8:])])"
   ]
  }
 ],
 "metadata": {
  "kernelspec": {
   "display_name": "Python 2",
   "language": "python",
   "name": "python2"
  },
  "language_info": {
   "codemirror_mode": {
    "name": "ipython",
    "version": 2
   },
   "file_extension": ".py",
   "mimetype": "text/x-python",
   "name": "python",
   "nbconvert_exporter": "python",
   "pygments_lexer": "ipython2",
   "version": "2.7.10"
  }
 },
 "nbformat": 4,
 "nbformat_minor": 0
}
