{
 "cells": [
  {
   "cell_type": "code",
   "execution_count": 2,
   "metadata": {
    "collapsed": true
   },
   "outputs": [],
   "source": [
    "from scipy import optimize\n",
    "import numpy as np\n",
    "% matplotlib inline"
   ]
  },
  {
   "cell_type": "markdown",
   "metadata": {},
   "source": [
    "### Deterministic Model"
   ]
  },
  {
   "cell_type": "code",
   "execution_count": null,
   "metadata": {
    "collapsed": true
   },
   "outputs": [],
   "source": []
  },
  {
   "cell_type": "markdown",
   "metadata": {},
   "source": [
    "### Two Stage Stochastic Programming Model"
   ]
  },
  {
   "cell_type": "code",
   "execution_count": null,
   "metadata": {
    "collapsed": true
   },
   "outputs": [],
   "source": []
  },
  {
   "cell_type": "markdown",
   "metadata": {},
   "source": [
    "### RO SP FR"
   ]
  },
  {
   "cell_type": "code",
   "execution_count": null,
   "metadata": {
    "collapsed": true
   },
   "outputs": [],
   "source": []
  },
  {
   "cell_type": "markdown",
   "metadata": {},
   "source": [
    "### Mean Markovitz Model"
   ]
  },
  {
   "cell_type": "code",
   "execution_count": 6,
   "metadata": {
    "collapsed": false
   },
   "outputs": [],
   "source": [
    "def risk_const(x, params, risk_param, profit_lb):\n",
    "    \"\"\"\n",
    "        Risk constraint for Mean-Markovitz model.\n",
    "        \n",
    "        Parameters\n",
    "        ----------\n",
    "        x : {np.array}\n",
    "            array of decision variables\n",
    "            \n",
    "        params : {dict}\n",
    "            dictionary of parameters used for constraint generation\n",
    "        \n",
    "        risk_param : {float}\n",
    "            custom risk parameter for variation penalty\n",
    "        \n",
    "        profit_lb : {float}\n",
    "            lower bound for profit (t)\n",
    "            \n",
    "        Parameter Dictionary\n",
    "        --------------------\n",
    "        sales_mean : {np.array}\n",
    "            mean coefficients for sales variable (selling price)\n",
    "        \n",
    "        sales_std : {np.array}\n",
    "            standard deviation for sales variables\n",
    "            \n",
    "        purchase_coeff : {np.array}\n",
    "            purchase cost\n",
    "        \n",
    "        inventory_coeff : {np.array}\n",
    "            positive inventory returns\n",
    "        \n",
    "        operation_coeff : {np.array}\n",
    "            operation costs\n",
    "    \"\"\"\n",
    "    # segment decision variables\n",
    "    s = x[:2]\n",
    "    p = x[2:4]\n",
    "    I = x[4:8]\n",
    "    R = x[8:]\n",
    "    \n",
    "    mu_q = params[\"sales_mean\"]\n",
    "    std_q = params[\"sales_std\"]\n",
    "    c = params[\"purchase_coeff\"]\n",
    "    e = params[\"inventory_coeff\"]\n",
    "    f = params[\"operation_coeff\"]\n",
    "    \n",
    "    return np.dot(mu_q, y) - np.dot(c,x) + np.dot(e,I) - np.dot(f,R) - risk_param*np.sqrt(np.dot(np.square(std_q),np.square(y))) - profit_lb"
   ]
  },
  {
   "cell_type": "code",
   "execution_count": null,
   "metadata": {
    "collapsed": true
   },
   "outputs": [],
   "source": [
    "# profit lb\n",
    "t = 10000\n",
    "\n",
    "# risk param\n",
    "theta = 0.3\n",
    "\n",
    "# mean sales price\n",
    "mean_q = np.array([90, 80])\n",
    "\n",
    "# std sales price\n",
    "std_q = np.array([27, 20])\n",
    "\n",
    "# purchase cost\n",
    "c = np.array([10, 15])\n",
    "\n",
    "# inventory coefficients\n",
    "e = np.array([10, 15, 20, 25])\n",
    "\n",
    "# operation cost\n",
    "f = np.array([30, 35])\n",
    "\n",
    "# decision variables - s3, s4, p1, p2, I1_f, I2_f, I3_f, I4_f, R1, R2\n",
    "\n",
    "# bounds\n",
    "bounds = [(20, 40), (20, 85), (20, 100), (30, 200), (0, 20), (0, 20), (0, 20), (0, 20), (20, 100), (30, 100)]\n",
    "\n",
    "# init vals\n",
    "x = np.zeros(10)\n",
    "\n",
    "# maximize profit\n",
    "obj = lambda x: -t\n",
    "\n",
    "params = {\"sales_mean\":mean_q, \"sales_std\": std_q, \"purchase_coeff\": c, \"inventory_coeff\": e,\n",
    "          \"operation_coeff\": f}\n",
    "\n",
    "# constraints\n",
    "cons = (\n",
    "    {\"type\": \"ineq\", \"fun\": risk_const, \"args\": (params,theta,t)},\n",
    "    {\"type\": \"eq\", \"fun\": lambda x: x[2] - 0.4*x[8] - x[4]},\n",
    "    {\"type\": \"eq\", \"fun\": lambda x: x[3] - 0.6*x[8] - x[9] - x[5]},\n",
    "    {\"type\": \"eq\", \"fun\": lambda x: 0.5*x[8] - x[6] - x[0]},\n",
    "    {\"type\": \"eq\", \"fun\": lambda x: 0.6*x[9] - x[7] - x[1]}\n",
    ")\n",
    "\n",
    "res = optimize.minimize(obj, x, bounds=bounds, constraints=cons)"
   ]
  }
 ],
 "metadata": {
  "kernelspec": {
   "display_name": "Python 2",
   "language": "python",
   "name": "python2"
  },
  "language_info": {
   "codemirror_mode": {
    "name": "ipython",
    "version": 2
   },
   "file_extension": ".py",
   "mimetype": "text/x-python",
   "name": "python",
   "nbconvert_exporter": "python",
   "pygments_lexer": "ipython2",
   "version": "2.7.10"
  }
 },
 "nbformat": 4,
 "nbformat_minor": 0
}
