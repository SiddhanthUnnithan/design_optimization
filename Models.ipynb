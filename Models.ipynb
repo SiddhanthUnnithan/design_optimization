{
 "cells": [
  {
   "cell_type": "code",
   "execution_count": 2,
   "metadata": {
    "collapsed": true
   },
   "outputs": [],
   "source": [
    "from __future__ import division\n",
    "\n",
    "from scipy import optimize\n",
    "import numpy as np\n",
    "% matplotlib inline"
   ]
  },
  {
   "cell_type": "markdown",
   "metadata": {},
   "source": [
    "### Deterministic Model"
   ]
  },
  {
   "cell_type": "code",
   "execution_count": 79,
   "metadata": {
    "collapsed": true
   },
   "outputs": [],
   "source": [
    "def deter_obj(x, q, c, e, f):\n",
    "    \"\"\"\n",
    "        Objective function for deterministic problem. Single time horizon - no uncertainty.\n",
    "        \n",
    "        Parameters\n",
    "        ----------\n",
    "        x : {np.array}\n",
    "            decision variables\n",
    "        \n",
    "        q : {np.array}\n",
    "            sale price\n",
    "        \n",
    "        c : {np.array}\n",
    "            purchase cost\n",
    "        \n",
    "        e : {np.array}\n",
    "            inventory return\n",
    "        \n",
    "        f : {np.array}\n",
    "            operation cost\n",
    "    \"\"\"\n",
    "    s = x[:2]\n",
    "    p = x[2:4]\n",
    "    I = x[4:8]\n",
    "    R = x[8:]\n",
    "    \n",
    "    obj = np.dot(q, s) - np.dot(c,p) + np.dot(e,I) - np.dot(f,R)\n",
    "    \n",
    "    return -1*obj"
   ]
  },
  {
   "cell_type": "code",
   "execution_count": 85,
   "metadata": {
    "collapsed": false
   },
   "outputs": [
    {
     "name": "stdout",
     "output_type": "stream",
     "text": [
      "Optimization terminated successfully.    (Exit mode 0)\n",
      "            Current function value: -493.320899987\n",
      "            Iterations: 5\n",
      "            Function evaluations: 61\n",
      "            Gradient evaluations: 5\n",
      "Sales Units - S0: 39.9999999997, S1: 20.0\n",
      "Purchase Units - P0: 41.0000149999, P1: 88.1667849999\n",
      "Inventory Units - I0_final: 8.99993500007, I1_final: 6.83316500007, I2_final: 0.000100000090872, I3_final: 0.00010000004724\n",
      "Operation Levels - R0: 80.0001999996, R1: 33.3335000001\n"
     ]
    }
   ],
   "source": [
    "# sales price\n",
    "q = np.array([100,80])\n",
    "\n",
    "# purchase cost\n",
    "c = np.array([10, 15])\n",
    "\n",
    "# inventory coefficients\n",
    "e = np.array([10, 15, 20, 25])\n",
    "\n",
    "# operation cost\n",
    "f = np.array([30, 35])\n",
    "\n",
    "# decision variables - s3, s4, p1, p2, I1_f, I2_f, I3_f, I4_f, R1, R2\n",
    "\n",
    "# bounds\n",
    "bounds = [(20, 40), (20, 85), (20, 100), (30, 200), (0.0001, 20), (0.0001, 20), (0.0001, 20), (0.0001, 20), (20, 100), (30, 100)]\n",
    "\n",
    "# init vals - boundary midpoints\n",
    "x0 = np.array([(tup[1] - tup[0])/2 for tup in bounds])\n",
    "\n",
    "cons = [\n",
    "    {\"type\": \"eq\", \"fun\": lambda x: x[2] - 0.4*x[8] - x[4]},\n",
    "    {\"type\": \"eq\", \"fun\": lambda x: x[3] - 0.6*x[8] - x[9] - x[5]},\n",
    "    {\"type\": \"eq\", \"fun\": lambda x: 0.5*x[8] - x[6] - x[0]},\n",
    "    {\"type\": \"eq\", \"fun\": lambda x: 0.6*x[9] - x[7] - x[1]}\n",
    "]\n",
    "\n",
    "# generate boundary constraints dynamically\n",
    "dynamic_cons = []\n",
    "for idx, bnd in enumerate(bounds):\n",
    "    dynamic_cons.append({\"type\": \"ineq\", \"fun\": lambda x: x[idx] - bnd[0]})\n",
    "    dynamic_cons.append({\"type\": \"ineq\", \"fun\": lambda x: bnd[1] - x[idx]})\n",
    "\n",
    "cons += dynamic_cons\n",
    "\n",
    "res = optimize.minimize(deter_obj, x0, args=(q,c,e,f), method=\"SLSQP\", bounds=bounds, constraints=cons, options={\"disp\":True})\n",
    "    \n",
    "x = res.x\n",
    "\n",
    "print \"Sales Units - %s\" % \", \".join([\"S%s: %s\" % (idx, val) for idx, val in enumerate(x[:2])])\n",
    "print \"Purchase Units - %s\" % \", \".join([\"P%s: %s\" % (idx, val) for idx, val in enumerate(x[2:4])])\n",
    "print \"Inventory Units - %s\" % \", \".join([\"I%s_final: %s\" % (idx, val) for idx, val in enumerate(x[4:8])])\n",
    "print \"Operation Levels - %s\" % \", \".join([\"R%s: %s\" % (idx, val) for idx, val in enumerate(x[8:])])"
   ]
  },
  {
   "cell_type": "markdown",
   "metadata": {},
   "source": [
    "### TSSP - Without Risk"
   ]
  },
  {
   "cell_type": "code",
   "execution_count": 51,
   "metadata": {
    "collapsed": true
   },
   "outputs": [],
   "source": [
    "a = np.random.normal(0,1,25)"
   ]
  },
  {
   "cell_type": "code",
   "execution_count": 52,
   "metadata": {
    "collapsed": false
   },
   "outputs": [
    {
     "data": {
      "text/plain": [
       "array([-0.44913704,  1.67834196,  1.55355153,  0.75830252, -0.432152  ,\n",
       "        1.44588465, -0.51572166, -1.04472896,  0.79933831, -0.79047115,\n",
       "        0.5338849 , -1.83893157, -0.51783001,  0.82696969,  1.06524289,\n",
       "       -1.08051976, -0.62922052, -0.29300695,  0.01006503, -0.37225938,\n",
       "       -0.50629288,  0.18850247,  0.14137509,  0.99053001,  1.62391023])"
      ]
     },
     "execution_count": 52,
     "metadata": {},
     "output_type": "execute_result"
    }
   ],
   "source": [
    "a"
   ]
  },
  {
   "cell_type": "code",
   "execution_count": 53,
   "metadata": {
    "collapsed": false
   },
   "outputs": [],
   "source": [
    "a = a.reshape(5,5)"
   ]
  },
  {
   "cell_type": "code",
   "execution_count": 54,
   "metadata": {
    "collapsed": false
   },
   "outputs": [
    {
     "data": {
      "text/plain": [
       "array([[-0.44913704,  1.67834196,  1.55355153,  0.75830252, -0.432152  ],\n",
       "       [ 1.44588465, -0.51572166, -1.04472896,  0.79933831, -0.79047115],\n",
       "       [ 0.5338849 , -1.83893157, -0.51783001,  0.82696969,  1.06524289],\n",
       "       [-1.08051976, -0.62922052, -0.29300695,  0.01006503, -0.37225938],\n",
       "       [-0.50629288,  0.18850247,  0.14137509,  0.99053001,  1.62391023]])"
      ]
     },
     "execution_count": 54,
     "metadata": {},
     "output_type": "execute_result"
    }
   ],
   "source": [
    "a"
   ]
  },
  {
   "cell_type": "code",
   "execution_count": 56,
   "metadata": {
    "collapsed": false
   },
   "outputs": [
    {
     "data": {
      "text/plain": [
       "array([-0.44913704, -0.51572166, -0.51783001,  0.01006503,  1.62391023])"
      ]
     },
     "execution_count": 56,
     "metadata": {},
     "output_type": "execute_result"
    }
   ],
   "source": [
    "a.diagonal()"
   ]
  },
  {
   "cell_type": "code",
   "execution_count": 50,
   "metadata": {
    "collapsed": false
   },
   "outputs": [
    {
     "data": {
      "text/plain": [
       "array([[ 0.00681444, -0.32022964, -0.9002304 ,  0.12942348, -0.02298906],\n",
       "       [ 1.16332388,  1.63940011,  2.30218522, -0.86326278, -0.26731533]])"
      ]
     },
     "execution_count": 50,
     "metadata": {},
     "output_type": "execute_result"
    }
   ],
   "source": [
    "a.T"
   ]
  },
  {
   "cell_type": "code",
   "execution_count": 37,
   "metadata": {
    "collapsed": false
   },
   "outputs": [
    {
     "data": {
      "text/plain": [
       "(10, 2)"
      ]
     },
     "execution_count": 37,
     "metadata": {},
     "output_type": "execute_result"
    }
   ],
   "source": [
    "a.shape"
   ]
  },
  {
   "cell_type": "code",
   "execution_count": 44,
   "metadata": {
    "collapsed": false
   },
   "outputs": [
    {
     "data": {
      "text/plain": [
       "array([3, 7])"
      ]
     },
     "execution_count": 44,
     "metadata": {},
     "output_type": "execute_result"
    }
   ],
   "source": [
    "np.dot([[1,2],[3,4]],[[1,1],])"
   ]
  },
  {
   "cell_type": "code",
   "execution_count": 32,
   "metadata": {
    "collapsed": false
   },
   "outputs": [
    {
     "data": {
      "text/plain": [
       "10.0"
      ]
     },
     "execution_count": 32,
     "metadata": {},
     "output_type": "execute_result"
    }
   ],
   "source": [
    "np.dot(np.dot([[1,2],[3,4]],[1,1]), np.ones(2))"
   ]
  },
  {
   "cell_type": "code",
   "execution_count": 43,
   "metadata": {
    "collapsed": false
   },
   "outputs": [
    {
     "data": {
      "text/plain": [
       "array([-2.53843056, -1.42678358, -5.87461745,  8.91204998, -4.84530833,\n",
       "        2.78118296,  3.88662958, -2.56845004,  2.02103656,  1.46802793])"
      ]
     },
     "execution_count": 43,
     "metadata": {},
     "output_type": "execute_result"
    }
   ],
   "source": [
    "np.dot(np.random.normal(0,1,(10,2)), [3,4])"
   ]
  },
  {
   "cell_type": "code",
   "execution_count": 30,
   "metadata": {
    "collapsed": false
   },
   "outputs": [
    {
     "data": {
      "text/plain": [
       "-41.080388183994941"
      ]
     },
     "execution_count": 30,
     "metadata": {},
     "output_type": "execute_result"
    }
   ],
   "source": [
    "np.dot(np.dot(np.random.normal(0,1,(10,2)), [3,4]), np.ones(10))"
   ]
  },
  {
   "cell_type": "code",
   "execution_count": 42,
   "metadata": {
    "collapsed": false
   },
   "outputs": [
    {
     "data": {
      "text/plain": [
       "array([ 2.5,  2.5,  2.5,  2.5,  2.5,  2.5,  2.5,  2.5,  2.5,  2.5])"
      ]
     },
     "execution_count": 42,
     "metadata": {},
     "output_type": "execute_result"
    }
   ],
   "source": [
    "np.ones(10)*2.5"
   ]
  },
  {
   "cell_type": "code",
   "execution_count": 86,
   "metadata": {
    "collapsed": true
   },
   "outputs": [],
   "source": [
    "def tssp_obj(x, q, c, e, f, c_susl, num_scenarios):\n",
    "    \"\"\"\n",
    "        Objective function for two stage stochastic problem.\n",
    "        \n",
    "        Parameters\n",
    "        ----------\n",
    "        x : {np.array}\n",
    "            design variables\n",
    "        \n",
    "        q : {np.array}\n",
    "            sales price (stochastic) - expected to have shape = (num_scenarios, num_det_var)\n",
    "        \n",
    "        c : {np.array}\n",
    "            purchase costs\n",
    "        \n",
    "        e : {np.array}\n",
    "            inventory returns\n",
    "        \n",
    "        f : {np.array}\n",
    "            operation costs\n",
    "        \n",
    "        c_susl : {np.array}\n",
    "            surplus and slack costs\n",
    "        \n",
    "        num_scenarios : {np.array}\n",
    "            number of scenarios\n",
    "    \"\"\"\n",
    "    scenario_prob = 1/num_scenarios\n",
    "    \n",
    "    # segment design variables\n",
    "    num_stoch = q.size\n",
    "    s = x[:num_stoch]\n",
    "    s.reshape(num_scenarios,2)\n",
    "    \n",
    "    det_indices = [len(c), len(e), len(f)]\n",
    "    for idx in range(0, len(det_indices)):\n",
    "        if idx == 0:\n",
    "            det_indices[idx] += num_stoch\n",
    "            continue\n",
    "        det_indices[idx] += num_stoch + det_indices[idx-1]\n",
    "    p = x[num_stoch:det_indices[0]]\n",
    "    I = x[det_indices[0]:det_indices[1]]\n",
    "    R = x[det_indices[1]:det_indices[2]]\n",
    "    \n",
    "    su_sl = x[det_indices[2]:]\n",
    "    su_sl.reshape(num_scenarios, 2)\n",
    "    \n",
    "    # <det> + scenario_prob*(sum_s <stoch>) - (su_sl_cost*<su_sl>)\n",
    "    det_seg = -np.dot(c,p) + np.dot(e,I) - np.dot(f,R)\n",
    "    \n",
    "    # Sx2 * 2xS - np.dot is matrix multiplication for 2-D arrays\n",
    "    stoch_seg = np.dot(q,s.T)\n",
    "    stoch_seg = np.dot(stoch_seg.diagonal(),np.ones(num_scenarios)*scenario_prob)\n",
    "    \n",
    "    susl_seg = np.dot(np.dot(su_sl, c_susl), np.ones(num_scenarios)*scenario_prob)\n",
    "    \n",
    "    obj = stoch_seg + det_seg - susl_seg\n",
    "    \n",
    "    return -1*obj"
   ]
  },
  {
   "cell_type": "code",
   "execution_count": null,
   "metadata": {
    "collapsed": true
   },
   "outputs": [],
   "source": [
    "# num_scenarios = 5\n",
    "\n",
    "# surplus, slack penalties\n",
    "csusl = np.array([20,20])\n",
    "\n",
    "# sales price samples - num_scenarios*num_stoch_var\n",
    "q_samples = np.random.normal(90,27,(num_scenarios, 2))\n",
    "\n",
    "# purchase cost\n",
    "c = np.array([10, 15])\n",
    "\n",
    "# inventory coefficients\n",
    "e = np.array([10, 15, 20, 25])\n",
    "\n",
    "# operation cost\n",
    "f = np.array([30, 35])\n",
    "\n",
    "# bounds\n",
    "# <det> + <sampled items> + <su/sl => 2*num_scenarios>\n",
    "bounds = [(20, 40), (20, 85)]*num_scenarios # bounds unchanged for stochastic vars\n",
    "bounds += [(20, 100), (30, 200), (0, 20), (0, 20), (0, 20), (0, 20), (20, 100), (30, 100)]\n",
    "bounds += [(0,None),(0,None)]*num_scenarios # su/sl bounds\n",
    "\n",
    "# init vals\n",
    "x0 = np.array([(tup[1] - tup[0])/2 for tup in bounds])\n",
    "\n",
    "# dynamically generate equality constraints\n",
    "cons = [\n",
    "    {\"type\": \"eq\", \"fun\": lambda x: x[2] - 0.4*x[8] - x[4]},\n",
    "    {\"type\": \"eq\", \"fun\": lambda x: x[3] - 0.6*x[8] - x[9] - x[5]},\n",
    "    {\"type\": \"eq\", \"fun\": lambda x: 0.5*x[8] - x[6] - x[0]},\n",
    "    {\"type\": \"eq\", \"fun\": lambda x: 0.6*x[9] - x[7] - x[1]}\n",
    "]\n",
    "\n",
    "cons = []\n",
    "# last index of stochastic variables in decision array (sei)\n",
    "sei = q_samples.size - 1\n",
    "# starting index of surplus and slack variables in decision array (ssi)\n",
    "ssi = len(bounds) - (2*num_scenarios + 1)\n",
    "for idx in range(0,num_scenarios):\n",
    "    jump_indices = (2*idx, 2*idx+1)\n",
    "    cons.append({\"type\":\"eq\", \"fun\": lambda x: x[sei+1] - 0.4*x[sei+7] - x[sei+3] + x[ssi+jump_indices[0]] - x[ssi+jump_indices[1]]})\n",
    "    cons.append({\"type\": \"eq\", \"fun\": lambda x: x[sei+2] - 0.6*x[sei+7] - x[sei+8] - x[sei+4] + x[]})\n"
   ]
  },
  {
   "cell_type": "markdown",
   "metadata": {},
   "source": [
    "### TSSP - Financial Risk"
   ]
  },
  {
   "cell_type": "code",
   "execution_count": null,
   "metadata": {
    "collapsed": true
   },
   "outputs": [],
   "source": []
  },
  {
   "cell_type": "markdown",
   "metadata": {},
   "source": [
    "### RO SP FR"
   ]
  },
  {
   "cell_type": "code",
   "execution_count": null,
   "metadata": {
    "collapsed": true
   },
   "outputs": [],
   "source": []
  },
  {
   "cell_type": "markdown",
   "metadata": {},
   "source": [
    "### Mean Markovitz Model"
   ]
  },
  {
   "cell_type": "code",
   "execution_count": 6,
   "metadata": {
    "collapsed": false
   },
   "outputs": [],
   "source": [
    "def risk_const(x, params, risk_param, profit_lb):\n",
    "    \"\"\"\n",
    "        Risk constraint for Mean-Markovitz model.\n",
    "        \n",
    "        Parameters\n",
    "        ----------\n",
    "        x : {np.array}\n",
    "            array of decision variables\n",
    "            \n",
    "        params : {dict}\n",
    "            dictionary of parameters used for constraint generation\n",
    "        \n",
    "        risk_param : {float}\n",
    "            custom risk parameter for variation penalty\n",
    "        \n",
    "        profit_lb : {float}\n",
    "            lower bound for profit (t)\n",
    "            \n",
    "        Parameter Dictionary\n",
    "        --------------------\n",
    "        sales_mean : {np.array}\n",
    "            mean coefficients for sales variable (selling price)\n",
    "        \n",
    "        sales_std : {np.array}\n",
    "            standard deviation for sales variables\n",
    "            \n",
    "        purchase_coeff : {np.array}\n",
    "            purchase cost\n",
    "        \n",
    "        inventory_coeff : {np.array}\n",
    "            positive inventory returns\n",
    "        \n",
    "        operation_coeff : {np.array}\n",
    "            operation costs\n",
    "    \"\"\"\n",
    "    mu_q = params[\"sales_mean\"]\n",
    "    std_q = params[\"sales_std\"]\n",
    "    c = params[\"purchase_coeff\"]\n",
    "    e = params[\"inventory_coeff\"]\n",
    "    f = params[\"operation_coeff\"]\n",
    "    \n",
    "    # segment decision variables\n",
    "    s = x[:2]\n",
    "    p = x[2:4]\n",
    "    I = x[4:8]\n",
    "    R = x[8:]\n",
    "    \n",
    "    const = np.dot(mu_q, s) - np.dot(c,p) + np.dot(e,I) - np.dot(f,R) - \\\n",
    "        risk_param*np.sqrt(np.dot(np.square(std_q),np.square(y))) - profit_lb\n",
    "    \n",
    "    return const"
   ]
  },
  {
   "cell_type": "code",
   "execution_count": null,
   "metadata": {
    "collapsed": true
   },
   "outputs": [],
   "source": [
    "# profit lb\n",
    "t = 10000\n",
    "\n",
    "# risk param\n",
    "theta = 0.3\n",
    "\n",
    "# mean sales price\n",
    "mean_q = np.array([90, 80])\n",
    "\n",
    "# std sales price\n",
    "std_q = np.array([27, 20])\n",
    "\n",
    "# purchase cost\n",
    "c = np.array([10, 15])\n",
    "\n",
    "# inventory coefficients\n",
    "e = np.array([10, 15, 20, 25])\n",
    "\n",
    "# operation cost\n",
    "f = np.array([30, 35])\n",
    "\n",
    "# decision variables - s3, s4, p1, p2, I1_f, I2_f, I3_f, I4_f, R1, R2\n",
    "\n",
    "# bounds\n",
    "bounds = [(20, 40), (20, 85), (20, 100), (30, 200), (0.0001, 20), (0.0001, 20), (0.0001, 20), (0.0001, 20), (20, 100), (30, 100)]\n",
    "\n",
    "# init vals - boundary midpoints\n",
    "x0 = np.array([(tup[1] - tup[0])/2 for tup in bounds])\n",
    "\n",
    "# maximize profit\n",
    "obj = lambda x: -t\n",
    "\n",
    "params = {\"sales_mean\":mean_q, \"sales_std\": std_q, \"purchase_coeff\": c, \"inventory_coeff\": e,\n",
    "          \"operation_coeff\": f}\n",
    "\n",
    "# constraints\n",
    "cons = (\n",
    "    {\"type\": \"ineq\", \"fun\": risk_const, \"args\": (params,theta,t)},\n",
    "    {\"type\": \"eq\", \"fun\": lambda x: x[2] - 0.4*x[8] - x[4]},\n",
    "    {\"type\": \"eq\", \"fun\": lambda x: x[3] - 0.6*x[8] - x[9] - x[5]},\n",
    "    {\"type\": \"eq\", \"fun\": lambda x: 0.5*x[8] - x[6] - x[0]},\n",
    "    {\"type\": \"eq\", \"fun\": lambda x: 0.6*x[9] - x[7] - x[1]}\n",
    ")\n",
    "\n",
    "res = optimize.minimize(obj, x0, bounds=bounds, constraints=cons, options={\"disp\": True})\n",
    "\n",
    "x = res.x\n",
    "\n",
    "print \"Sales Units - %s\" % \", \".join([\"S%s: %s\" % (idx, val) for idx, val in enumerate(x[:2])])\n",
    "print \"Purchase Units - %s\" % \", \".join([\"P%s: %s\" % (idx, val) for idx, val in enumerate(x[2:4])])\n",
    "print \"Inventory Units - %s\" % \", \".join([\"I%s_final: %s\" % (idx, val) for idx, val in enumerate(x[4:8])])\n",
    "print \"Operation Levels - %s\" % \", \".join([\"R%s: %s\" % (idx, val) for idx, val in enumerate(x[8:])])"
   ]
  }
 ],
 "metadata": {
  "kernelspec": {
   "display_name": "Python 2",
   "language": "python",
   "name": "python2"
  },
  "language_info": {
   "codemirror_mode": {
    "name": "ipython",
    "version": 2
   },
   "file_extension": ".py",
   "mimetype": "text/x-python",
   "name": "python",
   "nbconvert_exporter": "python",
   "pygments_lexer": "ipython2",
   "version": "2.7.10"
  }
 },
 "nbformat": 4,
 "nbformat_minor": 0
}
